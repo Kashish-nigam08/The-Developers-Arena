{
 "cells": [
  {
   "cell_type": "code",
   "execution_count": 1,
   "id": "17b9e795-a8c9-4d13-9e46-ef97017150e4",
   "metadata": {},
   "outputs": [
    {
     "name": "stdout",
     "output_type": "stream",
     "text": [
      "Requirement already satisfied: pandas in c:\\users\\hp\\appdata\\local\\programs\\python\\python312\\lib\\site-packages (2.2.3)\n",
      "Requirement already satisfied: numpy>=1.26.0 in c:\\users\\hp\\appdata\\local\\programs\\python\\python312\\lib\\site-packages (from pandas) (2.2.6)\n",
      "Requirement already satisfied: python-dateutil>=2.8.2 in c:\\users\\hp\\appdata\\local\\programs\\python\\python312\\lib\\site-packages (from pandas) (2.9.0.post0)\n",
      "Requirement already satisfied: pytz>=2020.1 in c:\\users\\hp\\appdata\\local\\programs\\python\\python312\\lib\\site-packages (from pandas) (2025.2)\n",
      "Requirement already satisfied: tzdata>=2022.7 in c:\\users\\hp\\appdata\\local\\programs\\python\\python312\\lib\\site-packages (from pandas) (2025.2)\n",
      "Requirement already satisfied: six>=1.5 in c:\\users\\hp\\appdata\\local\\programs\\python\\python312\\lib\\site-packages (from python-dateutil>=2.8.2->pandas) (1.16.0)\n"
     ]
    },
    {
     "name": "stderr",
     "output_type": "stream",
     "text": [
      "\n",
      "[notice] A new release of pip is available: 24.2 -> 25.2\n",
      "[notice] To update, run: python.exe -m pip install --upgrade pip\n"
     ]
    }
   ],
   "source": [
    "!pip install pandas\n"
   ]
  },
  {
   "cell_type": "code",
   "execution_count": 13,
   "id": "4d7bc174-c700-40f0-b9d0-2ea263cb1cae",
   "metadata": {},
   "outputs": [
    {
     "name": "stdout",
     "output_type": "stream",
     "text": [
      "   Std_RollNo        Std_Name Std_Branch     Std_Course  Std_StudyHours  \\\n",
      "0      240415    Tanya Gautam         MC  B.Sc 1st year            6.83   \n",
      "1      240416      Udit Sagan         MC  B.Sc 1st year            6.56   \n",
      "2      240417  Kratika Sharma         PM  B.Sc 1st year             NaN   \n",
      "3      240418    Rakesh Kumar         PM  B.Sc 1st year            5.67   \n",
      "4      240419   Ritika Katara         PM  B.Sc 1st year            8.67   \n",
      "\n",
      "   Std_Marks  \n",
      "0      78.50  \n",
      "1      76.74  \n",
      "2      78.68  \n",
      "3      71.82  \n",
      "4      84.19  \n",
      "<class 'pandas.core.frame.DataFrame'>\n",
      "RangeIndex: 200 entries, 0 to 199\n",
      "Data columns (total 6 columns):\n",
      " #   Column          Non-Null Count  Dtype  \n",
      "---  ------          --------------  -----  \n",
      " 0   Std_RollNo      200 non-null    int64  \n",
      " 1   Std_Name        200 non-null    object \n",
      " 2   Std_Branch      197 non-null    object \n",
      " 3   Std_Course      200 non-null    object \n",
      " 4   Std_StudyHours  195 non-null    float64\n",
      " 5   Std_Marks       200 non-null    float64\n",
      "dtypes: float64(2), int64(1), object(3)\n",
      "memory usage: 9.5+ KB\n"
     ]
    },
    {
     "data": {
      "text/plain": [
       "None"
      ]
     },
     "metadata": {},
     "output_type": "display_data"
    },
    {
     "name": "stdout",
     "output_type": "stream",
     "text": [
      "\n",
      "Missing values\n",
      "Std_RollNo        0\n",
      "Std_Name          0\n",
      "Std_Branch        3\n",
      "Std_Course        0\n",
      "Std_StudyHours    5\n",
      "Std_Marks         0\n",
      "dtype: int64\n",
      "\n",
      "After Handling Missing values\n",
      "Std_RollNo        0\n",
      "Std_Name          0\n",
      "Std_Branch        0\n",
      "Std_Course        0\n",
      "Std_StudyHours    0\n",
      "Std_Marks         0\n",
      "dtype: int64\n",
      "Average Values:\n",
      " Std_RollNo        240514.20000\n",
      "Std_StudyHours         6.82105\n",
      "Std_Marks             77.93375\n",
      "dtype: float64 \n",
      "\n",
      "Highest Values:\n",
      " Std_RollNo        240613.00\n",
      "Std_StudyHours         8.99\n",
      "Std_Marks             86.99\n",
      "dtype: float64 \n",
      "\n",
      "Lowest Values:\n",
      " Std_RollNo        240415.00\n",
      "Std_StudyHours         0.00\n",
      "Std_Marks             68.57\n",
      "dtype: float64\n"
     ]
    }
   ],
   "source": [
    "import pandas as pd\n",
    "data= pd.read_csv(\"C:\\\\Users\\\\HP\\\\Downloads\\\\StudentMarksDataset.csv\")\n",
    "print(data.head())\n",
    "display (data.info())\n",
    "print(\"\\nMissing values\")\n",
    "print(data.isnull().sum())\n",
    "data=data.fillna(0)\n",
    "print(\"\\nAfter Handling Missing values\")\n",
    "print(data.isnull().sum())\n",
    "print(\"Average Values:\\n\", data.mean(numeric_only=True), \"\\n\")\n",
    "print(\"Highest Values:\\n\", data.max(numeric_only=True), \"\\n\")\n",
    "print(\"Lowest Values:\\n\", data.min(numeric_only=True))"
   ]
  },
  {
   "cell_type": "code",
   "execution_count": 15,
   "id": "d3cc82d9-25d8-46eb-87b6-1c1dea679371",
   "metadata": {},
   "outputs": [
    {
     "name": "stdout",
     "output_type": "stream",
     "text": [
      "Sales Dataset:\n",
      "          Date     Product  Units_Sold  Price_per_Unit  Total_Sale\n",
      "0  2025-01-05      Laptop           5           60000      300000\n",
      "1  2025-01-12      Mobile           8           20000      160000\n",
      "2  2025-01-19      Tablet           6           25000      150000\n",
      "3  2025-01-26  Headphones          10            3000       30000\n",
      "4  2025-02-02      Laptop           4           60000      240000\n",
      "5  2025-02-09      Mobile           9           20000      180000\n",
      "6  2025-02-16      Tablet           7           25000      175000\n",
      "7  2025-02-23  Headphones          12            3000       36000\n",
      "8  2025-03-02      Laptop           3           60000      180000\n",
      "9  2025-03-09      Mobile          11           20000      220000 \n",
      "\n",
      "\n",
      "----- SALES REPORT -----\n",
      "Total Sales: ₹1,671,000\n",
      "Best-Selling Product: Laptop (₹720,000)\n",
      "\n",
      "Sales by Product:\n",
      "Product\n",
      "Headphones     66000\n",
      "Laptop        720000\n",
      "Mobile        560000\n",
      "Tablet        325000\n",
      "\n",
      "-------------------------\n",
      "\n",
      "Report saved as 'sales_report.txt'\n"
     ]
    }
   ],
   "source": [
    "#Project\n",
    "\n",
    "import pandas as pd\n",
    "data = {\n",
    "    \"Date\": [\n",
    "        \"2025-01-05\", \"2025-01-12\", \"2025-01-19\", \"2025-01-26\",\n",
    "        \"2025-02-02\", \"2025-02-09\", \"2025-02-16\", \"2025-02-23\",\n",
    "        \"2025-03-02\", \"2025-03-09\"\n",
    "    ],\n",
    "    \"Product\": [\n",
    "        \"Laptop\", \"Mobile\", \"Tablet\", \"Headphones\", \n",
    "        \"Laptop\", \"Mobile\", \"Tablet\", \"Headphones\", \n",
    "        \"Laptop\", \"Mobile\"\n",
    "    ],\n",
    "    \"Units_Sold\": [5, 8, 6, 10, 4, 9, 7, 12, 3, 11],\n",
    "    \"Price_per_Unit\": [60000, 20000, 25000, 3000, 60000, 20000, 25000, 3000, 60000, 20000]\n",
    "}\n",
    "\n",
    "df = pd.DataFrame(data)\n",
    "\n",
    "df[\"Total_Sales\"] = df[\"Units_Sold\"] * df[\"Price_per_Unit\"]\n",
    "\n",
    "print(\"Sales Dataset:\\n\", df, \"\\n\")\n",
    "total_sales = df[\"Total_Sales\"].sum()\n",
    "\n",
    "product_sales = df.groupby(\"Product\")[\"Total_Sale\"].sum()\n",
    "best_selling_product = product_sales.idxmax()\n",
    "best_selling_value = product_sales.max()\n",
    "\n",
    "\n",
    "report = f\"\"\"\n",
    "----- SALES REPORT -----\n",
    "Total Sales: ₹{total_sales:,}\n",
    "Best-Selling Product: {best_selling_product} (₹{best_selling_value:,})\n",
    "\n",
    "Sales by Product:\n",
    "{product_sales.to_string()}\n",
    "\n",
    "-------------------------\n",
    "\"\"\"\n",
    "\n",
    "print(report)\n",
    "\n",
    "with open(\"sales_report.txt\", \"w\",encoding=\"utf-8\") as f:\n",
    "    f.write(report)\n",
    "\n",
    "print(\"Report saved as 'sales_report.txt'\")\n"
   ]
  },
  {
   "cell_type": "code",
   "execution_count": null,
   "id": "1d695234-9bbe-406e-886f-f6333f32689e",
   "metadata": {},
   "outputs": [],
   "source": []
  },
  {
   "cell_type": "code",
   "execution_count": null,
   "id": "724613d6-18a4-4282-8fe1-7f653359bd39",
   "metadata": {},
   "outputs": [],
   "source": []
  }
 ],
 "metadata": {
  "kernelspec": {
   "display_name": "Python 3 (ipykernel)",
   "language": "python",
   "name": "python3"
  },
  "language_info": {
   "codemirror_mode": {
    "name": "ipython",
    "version": 3
   },
   "file_extension": ".py",
   "mimetype": "text/x-python",
   "name": "python",
   "nbconvert_exporter": "python",
   "pygments_lexer": "ipython3",
   "version": "3.12.5"
  }
 },
 "nbformat": 4,
 "nbformat_minor": 5
}
