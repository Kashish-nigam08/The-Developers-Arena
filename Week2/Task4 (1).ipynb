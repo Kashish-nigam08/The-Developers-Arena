{
 "cells": [
  {
   "cell_type": "code",
   "execution_count": 1,
   "id": "e120664a-1f74-4212-86d9-97b19898a946",
   "metadata": {},
   "outputs": [
    {
     "name": "stdin",
     "output_type": "stream",
     "text": [
      "Enter length of rectangle: 4\n",
      "Enter breadth of rectangle: 3\n"
     ]
    },
    {
     "name": "stdout",
     "output_type": "stream",
     "text": [
      "Area of rectangle: 14\n"
     ]
    }
   ],
   "source": [
    "length=int(input(\"Enter length of rectangle:\"))\n",
    "breadth=int(input(\"Enter breadth of rectangle:\"))\n",
    "print(\"Area of rectangle:\", 2*(length + breadth))"
   ]
  },
  {
   "cell_type": "code",
   "execution_count": null,
   "id": "fdcf5359-897b-49c7-99d2-c3302eb80d02",
   "metadata": {},
   "outputs": [],
   "source": []
  }
 ],
 "metadata": {
  "kernelspec": {
   "display_name": "Python 3 (ipykernel)",
   "language": "python",
   "name": "python3"
  },
  "language_info": {
   "codemirror_mode": {
    "name": "ipython",
    "version": 3
   },
   "file_extension": ".py",
   "mimetype": "text/x-python",
   "name": "python",
   "nbconvert_exporter": "python",
   "pygments_lexer": "ipython3",
   "version": "3.12.5"
  }
 },
 "nbformat": 4,
 "nbformat_minor": 5
}
