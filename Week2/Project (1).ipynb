{
 "cells": [
  {
   "cell_type": "code",
   "execution_count": 1,
   "id": "04bca281-82d6-4820-b4a0-621cbb706cc4",
   "metadata": {},
   "outputs": [
    {
     "name": "stdin",
     "output_type": "stream",
     "text": [
      "Enter your marks: 78\n"
     ]
    },
    {
     "name": "stdout",
     "output_type": "stream",
     "text": [
      "Grade: B Good work!\n"
     ]
    }
   ],
   "source": [
    "marks=float(input(\"Enter your marks:\"))\n",
    "if marks>=90:\n",
    "    print(\"Grade: A+ Excellent!\")\n",
    "elif marks>=80:\n",
    "    print(\"Grade: A Good job!\")\n",
    "elif marks>=70:\n",
    "    print(\"Grade: B Good work!\")\n",
    "elif marks>=60:\n",
    "    print(\"Grade: C Can improve!\")\n",
    "elif marks>=50:\n",
    "    print(\"Grade: D Passed but study harder!\")\n",
    "else:\n",
    "    print(\"Grade: F Failed! Better luck next time!\")"
   ]
  },
  {
   "cell_type": "code",
   "execution_count": null,
   "id": "d9459f6d-9222-4080-81a2-4d6d1a3befaf",
   "metadata": {},
   "outputs": [],
   "source": []
  }
 ],
 "metadata": {
  "kernelspec": {
   "display_name": "Python 3 (ipykernel)",
   "language": "python",
   "name": "python3"
  },
  "language_info": {
   "codemirror_mode": {
    "name": "ipython",
    "version": 3
   },
   "file_extension": ".py",
   "mimetype": "text/x-python",
   "name": "python",
   "nbconvert_exporter": "python",
   "pygments_lexer": "ipython3",
   "version": "3.12.5"
  }
 },
 "nbformat": 4,
 "nbformat_minor": 5
}
