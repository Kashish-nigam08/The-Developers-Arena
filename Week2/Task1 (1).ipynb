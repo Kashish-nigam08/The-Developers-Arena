{
 "cells": [
  {
   "cell_type": "code",
   "execution_count": 2,
   "id": "0daab886-4d12-4585-aa29-0fab7e115f3c",
   "metadata": {},
   "outputs": [
    {
     "name": "stdout",
     "output_type": "stream",
     "text": [
      "Good Night!\n"
     ]
    }
   ],
   "source": [
    "from datetime import datetime\n",
    "current_hour=datetime.now().hour\n",
    "\n",
    "if 5<=current_hour<12:\n",
    "    print(\"Good Morning!\")\n",
    "elif 12<=current_hour<17:\n",
    "    print(\"Good Afternoon!\")\n",
    "elif 17<=current_hour<21:\n",
    "    print(\"Good Evening!\")\n",
    "else:\n",
    "    print(\"Good Night!\")"
   ]
  },
  {
   "cell_type": "code",
   "execution_count": null,
   "id": "3f9f1fee-c4d0-4e79-ab59-291294007e65",
   "metadata": {},
   "outputs": [],
   "source": []
  }
 ],
 "metadata": {
  "kernelspec": {
   "display_name": "Python 3 (ipykernel)",
   "language": "python",
   "name": "python3"
  },
  "language_info": {
   "codemirror_mode": {
    "name": "ipython",
    "version": 3
   },
   "file_extension": ".py",
   "mimetype": "text/x-python",
   "name": "python",
   "nbconvert_exporter": "python",
   "pygments_lexer": "ipython3",
   "version": "3.12.5"
  }
 },
 "nbformat": 4,
 "nbformat_minor": 5
}
