{
 "cells": [
  {
   "cell_type": "code",
   "execution_count": 4,
   "id": "d7c324c3-c2a7-45c2-aa81-801f8921528b",
   "metadata": {},
   "outputs": [
    {
     "name": "stdin",
     "output_type": "stream",
     "text": [
      "Enter a number between 1 to 10: 6\n"
     ]
    },
    {
     "name": "stdout",
     "output_type": "stream",
     "text": [
      "Too high! Try a lower number next time\n",
      "The correct number was 2.\n"
     ]
    }
   ],
   "source": [
    "import random\n",
    "secret_number=random.randint(1,10)\n",
    "guess=int(input(\"Enter a number between 1 to 10:\"))\n",
    "if guess==secret_number:\n",
    "    print(\"Congratulations!\")\n",
    "elif guess<secret_number:\n",
    "    print(\"Too low! Try a higher number next time\")\n",
    "elif guess>secret_number:\n",
    "    print(\"Too high! Try a lower number next time\")\n",
    "print(f\"The correct number was {secret_number}.\")"
   ]
  },
  {
   "cell_type": "code",
   "execution_count": null,
   "id": "43238061-dd80-4aaf-b02c-670d1abed536",
   "metadata": {},
   "outputs": [],
   "source": []
  }
 ],
 "metadata": {
  "kernelspec": {
   "display_name": "Python 3 (ipykernel)",
   "language": "python",
   "name": "python3"
  },
  "language_info": {
   "codemirror_mode": {
    "name": "ipython",
    "version": 3
   },
   "file_extension": ".py",
   "mimetype": "text/x-python",
   "name": "python",
   "nbconvert_exporter": "python",
   "pygments_lexer": "ipython3",
   "version": "3.12.5"
  }
 },
 "nbformat": 4,
 "nbformat_minor": 5
}
