{
 "cells": [
  {
   "cell_type": "code",
   "execution_count": 2,
   "id": "9a22d3bc-af7e-4fa3-97d5-0a56006dc7e5",
   "metadata": {},
   "outputs": [
    {
     "name": "stdin",
     "output_type": "stream",
     "text": [
      "Enter your marks: 67\n"
     ]
    },
    {
     "name": "stdout",
     "output_type": "stream",
     "text": [
      "Grade: C\n"
     ]
    }
   ],
   "source": [
    "marks=float(input(\"Enter your marks:\"))\n",
    "if marks>=90:\n",
    "    print(\"Grade: A+\")\n",
    "elif marks>=80:\n",
    "    print(\"Grade: A\")\n",
    "elif marks>=70:\n",
    "    print(\"Grade: B\")\n",
    "elif marks>=60:\n",
    "    print(\"Grade: C\")\n",
    "elif marks>=50:\n",
    "    print(\"Grade: D\")\n",
    "else:\n",
    "    print(\"Grade: F\")"
   ]
  },
  {
   "cell_type": "code",
   "execution_count": 7,
   "id": "f51ce736-b527-4202-b748-c5f114d38dd7",
   "metadata": {},
   "outputs": [
    {
     "name": "stdin",
     "output_type": "stream",
     "text": [
      "Enter your age: 19\n"
     ]
    },
    {
     "name": "stdout",
     "output_type": "stream",
     "text": [
      "You are an adult\n"
     ]
    }
   ],
   "source": [
    "age=int(input(\"Enter your age:\"))\n",
    "if age<0:\n",
    "    print(\"Invalid age! Enter a positive number\")\n",
    "elif age<=12:\n",
    "    print(\"You are a child\")\n",
    "elif age<=18:\n",
    "    print(\"You are a teenager\")\n",
    "elif age<=59:\n",
    "    print(\"You are an adult\")\n",
    "else:\n",
    "    print(\"You are a senior citizen\")"
   ]
  },
  {
   "cell_type": "code",
   "execution_count": null,
   "id": "21ad5535-724a-467c-a022-78ef9e9f4c25",
   "metadata": {},
   "outputs": [],
   "source": []
  }
 ],
 "metadata": {
  "kernelspec": {
   "display_name": "Python 3 (ipykernel)",
   "language": "python",
   "name": "python3"
  },
  "language_info": {
   "codemirror_mode": {
    "name": "ipython",
    "version": 3
   },
   "file_extension": ".py",
   "mimetype": "text/x-python",
   "name": "python",
   "nbconvert_exporter": "python",
   "pygments_lexer": "ipython3",
   "version": "3.12.5"
  }
 },
 "nbformat": 4,
 "nbformat_minor": 5
}
