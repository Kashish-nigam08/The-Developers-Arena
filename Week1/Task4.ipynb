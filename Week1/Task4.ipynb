{
 "cells": [
  {
   "cell_type": "code",
   "execution_count": 1,
   "id": "13316049-c0c1-4fc7-8059-a9f52e676d7d",
   "metadata": {},
   "outputs": [
    {
     "name": "stdout",
     "output_type": "stream",
     "text": [
      "My favorite foods are: ['Pizza', 'Pasta', 'Burger', 'Ice Cream', 'Momos']\n",
      "First favorite food: Pizza\n",
      "Second favorite food: Pasta\n",
      "Last favorite food: Momos\n",
      "After adding a new food: ['Pizza', 'Pasta', 'Burger', 'Ice Cream', 'Momos', 'Chocolate']\n",
      "After removing Burger: ['Pizza', 'Pasta', 'Ice Cream', 'Momos', 'Chocolate']\n",
      "Some of my favorite foods are: ['Pasta', 'Ice Cream', 'Momos']\n"
     ]
    }
   ],
   "source": [
    "favorite_foods = [\"Pizza\", \"Pasta\", \"Burger\", \"Ice Cream\", \"Momos\"]\n",
    "\n",
    "print(\"My favorite foods are:\", favorite_foods)\n",
    "\n",
    "print(\"First favorite food:\", favorite_foods[0])\n",
    "print(\"Second favorite food:\", favorite_foods[1])\n",
    "print(\"Last favorite food:\", favorite_foods[-1])\n",
    "\n",
    "favorite_foods.append(\"Chocolate\")\n",
    "print(\"After adding a new food:\", favorite_foods)\n",
    "\n",
    "favorite_foods.remove(\"Burger\")\n",
    "print(\"After removing Burger:\", favorite_foods)\n",
    "\n",
    "print(\"Some of my favorite foods are:\", favorite_foods[1:4])\n"
   ]
  },
  {
   "cell_type": "code",
   "execution_count": null,
   "id": "59f615ed-5efa-4a85-a16a-a33630532eef",
   "metadata": {},
   "outputs": [],
   "source": []
  }
 ],
 "metadata": {
  "kernelspec": {
   "display_name": "Python 3 (ipykernel)",
   "language": "python",
   "name": "python3"
  },
  "language_info": {
   "codemirror_mode": {
    "name": "ipython",
    "version": 3
   },
   "file_extension": ".py",
   "mimetype": "text/x-python",
   "name": "python",
   "nbconvert_exporter": "python",
   "pygments_lexer": "ipython3",
   "version": "3.12.5"
  }
 },
 "nbformat": 4,
 "nbformat_minor": 5
}
