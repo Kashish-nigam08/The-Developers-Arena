{
 "cells": [
  {
   "cell_type": "code",
   "execution_count": 1,
   "id": "570580e7-da01-4f7e-8953-6bed48853820",
   "metadata": {},
   "outputs": [
    {
     "name": "stdin",
     "output_type": "stream",
     "text": [
      "Enter your name: Kashish\n",
      "Enter your age: 20\n",
      "Enter your hobby: Music\n"
     ]
    },
    {
     "name": "stdout",
     "output_type": "stream",
     "text": [
      "Name: Kashish\n",
      "Age: 20\n",
      "Hobby: Music\n"
     ]
    }
   ],
   "source": [
    "name=str(input(\"Enter your name:\"))\n",
    "age=int(input(\"Enter your age:\"))\n",
    "hobby=str(input(\"Enter your hobby:\"))\n",
    "print(\"Name:\",name,end=\"\\n\")\n",
    "print(\"Age:\",age,end=\"\\n\")\n",
    "print(\"Hobby:\",hobby,end=\"\\n\")"
   ]
  },
  {
   "cell_type": "code",
   "execution_count": null,
   "id": "a4159214-c372-47ab-9c01-a47ad70b2966",
   "metadata": {},
   "outputs": [],
   "source": []
  }
 ],
 "metadata": {
  "kernelspec": {
   "display_name": "Python 3 (ipykernel)",
   "language": "python",
   "name": "python3"
  },
  "language_info": {
   "codemirror_mode": {
    "name": "ipython",
    "version": 3
   },
   "file_extension": ".py",
   "mimetype": "text/x-python",
   "name": "python",
   "nbconvert_exporter": "python",
   "pygments_lexer": "ipython3",
   "version": "3.12.5"
  }
 },
 "nbformat": 4,
 "nbformat_minor": 5
}
