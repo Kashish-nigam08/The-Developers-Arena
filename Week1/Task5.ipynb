{
 "cells": [
  {
   "cell_type": "code",
   "execution_count": 1,
   "id": "2a9659cb-75c5-4821-8ab5-96c0e5f4e3fa",
   "metadata": {},
   "outputs": [
    {
     "name": "stdout",
     "output_type": "stream",
     "text": [
      "===== BIO-DATA =====\n",
      "Name: Kashish Nigam\n",
      "Age: 20\n",
      "Gender: Female\n",
      "Qualification: B.Tech in Computer Science (AI)\n",
      "College: PSIT, Kanpur\n",
      "Skills: Python, SQL, Data Analysis, Power BI\n",
      "Hobby: Music and cooking\n"
     ]
    }
   ],
   "source": [
    "name = \"Kashish Nigam\"\n",
    "age = 20\n",
    "gender = \"Female\"\n",
    "qualification = \"B.Tech in Computer Science (AI)\"\n",
    "college = \"PSIT, Kanpur\"\n",
    "skills = [\"Python\", \"SQL\", \"Data Analysis\", \"Power BI\"]\n",
    "hobby = \"Music and cooking\"\n",
    "\n",
    "# Displaying the bio-data\n",
    "print(\"===== BIO-DATA =====\")\n",
    "print(\"Name:\", name)\n",
    "print(\"Age:\", age)\n",
    "print(\"Gender:\", gender)\n",
    "print(\"Qualification:\", qualification)\n",
    "print(\"College:\", college)\n",
    "print(\"Skills:\", \", \".join(skills))\n",
    "print(\"Hobby:\", hobby)\n"
   ]
  },
  {
   "cell_type": "code",
   "execution_count": null,
   "id": "76ab1281-d8c2-4e9d-be97-a07494348fab",
   "metadata": {},
   "outputs": [],
   "source": []
  }
 ],
 "metadata": {
  "kernelspec": {
   "display_name": "Python 3 (ipykernel)",
   "language": "python",
   "name": "python3"
  },
  "language_info": {
   "codemirror_mode": {
    "name": "ipython",
    "version": 3
   },
   "file_extension": ".py",
   "mimetype": "text/x-python",
   "name": "python",
   "nbconvert_exporter": "python",
   "pygments_lexer": "ipython3",
   "version": "3.12.5"
  }
 },
 "nbformat": 4,
 "nbformat_minor": 5
}
