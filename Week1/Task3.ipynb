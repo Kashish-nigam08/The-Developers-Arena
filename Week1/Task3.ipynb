{
 "cells": [
  {
   "cell_type": "code",
   "execution_count": 1,
   "id": "2a9659cb-75c5-4821-8ab5-96c0e5f4e3fa",
   "metadata": {},
   "outputs": [
    {
     "name": "stdin",
     "output_type": "stream",
     "text": [
      "Enter first number:  25\n",
      "Enter second number:  10\n"
     ]
    },
    {
     "name": "stdout",
     "output_type": "stream",
     "text": [
      "Addition: 35.0\n",
      "Subtraction: 15.0\n",
      "Multiplication: 250.0\n",
      "Division: 2.5\n",
      "Floor Division: 2.0\n",
      "Modulus: 5.0\n",
      "Exponentiation (a^b): 95367431640625.0\n",
      "Square Root of first number: 5.0\n",
      "Square Root of second number: 3.1622776601683795\n"
     ]
    }
   ],
   "source": [
    "import math\n",
    "a = float(input(\"Enter first number: \"))\n",
    "b = float(input(\"Enter second number: \"))\n",
    "\n",
    "print(\"Addition:\", a + b)\n",
    "print(\"Subtraction:\", a - b)\n",
    "print(\"Multiplication:\", a * b)\n",
    "print(\"Division:\", a / b)\n",
    "print(\"Floor Division:\", a // b)\n",
    "print(\"Modulus:\", a % b)\n",
    "print(\"Exponentiation (a^b):\", a ** b)\n",
    "\n",
    "print(\"Square Root of first number:\", math.sqrt(a))\n",
    "print(\"Square Root of second number:\", math.sqrt(b))"
   ]
  },
  {
   "cell_type": "code",
   "execution_count": null,
   "id": "9fb672d7-fef6-45f5-bb20-ade5767dff50",
   "metadata": {},
   "outputs": [],
   "source": []
  }
 ],
 "metadata": {
  "kernelspec": {
   "display_name": "Python 3 (ipykernel)",
   "language": "python",
   "name": "python3"
  },
  "language_info": {
   "codemirror_mode": {
    "name": "ipython",
    "version": 3
   },
   "file_extension": ".py",
   "mimetype": "text/x-python",
   "name": "python",
   "nbconvert_exporter": "python",
   "pygments_lexer": "ipython3",
   "version": "3.12.5"
  }
 },
 "nbformat": 4,
 "nbformat_minor": 5
}
